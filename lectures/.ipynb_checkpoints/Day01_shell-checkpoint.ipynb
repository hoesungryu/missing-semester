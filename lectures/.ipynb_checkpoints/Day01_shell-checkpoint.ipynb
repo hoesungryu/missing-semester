{
 "cells": [
  {
   "cell_type": "markdown",
   "metadata": {},
   "source": [
    "# The shell\n",
    "\n",
    "<font size=5><b>파이썬 둘러보기<b></font>\n",
    "<div align='right'>류 회 성<br>(Hoe Sung Ryu)</div>\n",
    "\n",
    "\n",
    "---\n",
    "\n",
    "\n",
    "\n",
    "## 셀(shell)의 이해 \n",
    " 셀은 커널(Kernel)과 사용자간의 다리역할을 하는 것으로 사용자로 부터 명령을 받아 그것을 해석하고 프로그램을 실행하는 역할을 한다. \n",
    "리눅스에는 sh를 기본으로 `ksh` 와 `csh` 의 장점을 결합한 bash(Bourne Again shell)을 표준으로 하고 있다. \n"
   ]
  },
  {
   "cell_type": "markdown",
   "metadata": {
    "toc": true
   },
   "source": [
    "<h1>Table of Contents<span class=\"tocSkip\"></span></h1>\n",
    "<div class=\"toc\"><ul class=\"toc-item\"><li><span><a href=\"#셀(shell)의-이해\" data-toc-modified-id=\"셀(shell)의-이해-1\"><span class=\"toc-item-num\">1&nbsp;&nbsp;</span>셀(shell)의 이해</a></span></li><li><span><a href=\"#using-shell\" data-toc-modified-id=\"using-shell-2\"><span class=\"toc-item-num\">2&nbsp;&nbsp;</span>using shell</a></span></li><li><span><a href=\"#Navigating-in-the-shell\" data-toc-modified-id=\"Navigating-in-the-shell-3\"><span class=\"toc-item-num\">3&nbsp;&nbsp;</span>Navigating in the shell</a></span></li><li><span><a href=\"#Connecting-programs\" data-toc-modified-id=\"Connecting-programs-4\"><span class=\"toc-item-num\">4&nbsp;&nbsp;</span>Connecting programs</a></span><ul class=\"toc-item\"><li><span><a href=\"#리디렉션(redirection)\" data-toc-modified-id=\"리디렉션(redirection)-4.1\"><span class=\"toc-item-num\">4.1&nbsp;&nbsp;</span>리디렉션(redirection)</a></span></li></ul></li></ul></div>"
   ]
  },
  {
   "cell_type": "markdown",
   "metadata": {},
   "source": [
    "## using shell \n",
    "\n",
    "- `echo`\n",
    "- `date`: 현재 시간 출력 \n",
    "- `which`:\n"
   ]
  },
  {
   "cell_type": "code",
   "execution_count": 2,
   "metadata": {
    "ExecuteTime": {
     "end_time": "2021-08-02T07:32:11.273753Z",
     "start_time": "2021-08-02T07:32:11.142261Z"
    }
   },
   "outputs": [
    {
     "name": "stdout",
     "output_type": "stream",
     "text": [
      "hello\r\n"
     ]
    }
   ],
   "source": [
    "!echo hello"
   ]
  },
  {
   "cell_type": "code",
   "execution_count": 4,
   "metadata": {
    "ExecuteTime": {
     "end_time": "2021-08-02T07:32:19.722065Z",
     "start_time": "2021-08-02T07:32:19.585239Z"
    }
   },
   "outputs": [
    {
     "name": "stdout",
     "output_type": "stream",
     "text": [
      "Mon Aug  2 16:32:19 KST 2021\r\n"
     ]
    }
   ],
   "source": [
    "!date"
   ]
  },
  {
   "cell_type": "code",
   "execution_count": 1,
   "metadata": {
    "ExecuteTime": {
     "end_time": "2021-08-02T07:29:33.157767Z",
     "start_time": "2021-08-02T07:29:33.027942Z"
    },
    "scrolled": true
   },
   "outputs": [
    {
     "name": "stdout",
     "output_type": "stream",
     "text": [
      "/Users/hoesungryu/opt/anaconda3/envs/pytorch/bin:/Users/hoesungryu/opt/anaconda3/bin:/Users/hoesungryu/opt/anaconda3/condabin:/usr/local/bin:/usr/bin:/bin:/usr/sbin:/sbin:/Library/Apple/usr/bin\r\n"
     ]
    }
   ],
   "source": [
    "!echo $PATH"
   ]
  },
  {
   "cell_type": "markdown",
   "metadata": {},
   "source": [
    "## Navigating in the shell \n",
    "\n",
    "쉘에서 경로(path)는 Linux & Mac 에서는  `/` 기호로, Windows 에서는 `\\` 기호로 디렉토리(directories)를 나눈다.\n",
    "\n",
    "- `pwd`: 현재경로\n",
    "- `cd`:  경로 이동 (`cd ~` 홈디렉토리로 이동)\n",
    "- `ls`: 현재디렉토리 파일 확인 \n",
    "|Option|Mean|Description|\n",
    "|--|--|-----|\n",
    "|-l|long| 자세한 내용을 출력|\n",
    "|-r|reverse|거꾸로 출력(기본은 알파벳순)|\n",
    "|-R |recursive|하위 디렉토리까지 출력|\n",
    "|-h|human|파일 크기를 사람이 보기 좋게 표시"
   ]
  },
  {
   "cell_type": "code",
   "execution_count": 5,
   "metadata": {
    "ExecuteTime": {
     "end_time": "2021-08-02T07:34:37.414562Z",
     "start_time": "2021-08-02T07:34:37.280772Z"
    }
   },
   "outputs": [
    {
     "name": "stdout",
     "output_type": "stream",
     "text": [
      "/Users/hoesungryu/Github/missing-semester\r\n"
     ]
    }
   ],
   "source": [
    "!pwd"
   ]
  },
  {
   "cell_type": "code",
   "execution_count": 10,
   "metadata": {
    "ExecuteTime": {
     "end_time": "2021-08-02T07:38:53.626748Z",
     "start_time": "2021-08-02T07:38:53.487332Z"
    }
   },
   "outputs": [
    {
     "name": "stdout",
     "output_type": "stream",
     "text": [
      "total 16\r\n",
      "-rw-r--r--  1 hoesungryu  staff  4310 Aug  2 16:37 Untitled.ipynb\r\n"
     ]
    }
   ],
   "source": [
    "!ls -l"
   ]
  },
  {
   "cell_type": "markdown",
   "metadata": {},
   "source": [
    "## Connecting programs\n",
    "\n",
    "### 리디렉션(redirection)\n",
    "|Type|Description|\n",
    "|--|-----|\n",
    "|>|출력을 표준 출력에서 다른 출력으로 변경|\n",
    "|<|입력을 표준입력에서 다른 입력으로 변경|\n",
    "|>>|출력을 지정한 출력에 추가|\n",
    "|<<|기호 뒤에 지정한 문자열이 올때까지 대기 후 입력들어오면 <br />해당 문자열 나오기전까지 대기하고 있던 입력을 출력으로 보냄|\n"
   ]
  },
  {
   "cell_type": "code",
   "execution_count": 1,
   "metadata": {
    "ExecuteTime": {
     "end_time": "2021-08-02T09:36:21.779806Z",
     "start_time": "2021-08-02T09:36:21.652736Z"
    }
   },
   "outputs": [],
   "source": [
    "# hello를 hello.txt에 저장 \n",
    "!echo hello > ../results/hello.txt"
   ]
  },
  {
   "cell_type": "code",
   "execution_count": 2,
   "metadata": {
    "ExecuteTime": {
     "end_time": "2021-08-02T09:36:27.500541Z",
     "start_time": "2021-08-02T09:36:27.366883Z"
    }
   },
   "outputs": [
    {
     "name": "stdout",
     "output_type": "stream",
     "text": [
      "hello\r\n"
     ]
    }
   ],
   "source": [
    "# 출력 \n",
    "!cat ../results/hello.txt"
   ]
  },
  {
   "cell_type": "code",
   "execution_count": 3,
   "metadata": {
    "ExecuteTime": {
     "end_time": "2021-08-02T09:36:33.813737Z",
     "start_time": "2021-08-02T09:36:33.683536Z"
    }
   },
   "outputs": [],
   "source": [
    "# hello.txt에 있는 내용을 > hello2.txt 출력으로 \n",
    "!cat < ../results/hello.txt > ../results/hello2.txt"
   ]
  },
  {
   "cell_type": "code",
   "execution_count": 4,
   "metadata": {
    "ExecuteTime": {
     "end_time": "2021-08-02T09:36:35.928720Z",
     "start_time": "2021-08-02T09:36:35.799956Z"
    }
   },
   "outputs": [
    {
     "name": "stdout",
     "output_type": "stream",
     "text": [
      "hello\r\n"
     ]
    }
   ],
   "source": [
    "!cat ../results/hello2.txt"
   ]
  },
  {
   "cell_type": "code",
   "execution_count": 15,
   "metadata": {
    "ExecuteTime": {
     "end_time": "2021-08-02T07:59:28.517157Z",
     "start_time": "2021-08-02T07:59:27.680054Z"
    }
   },
   "outputs": [
    {
     "name": "stdout",
     "output_type": "stream",
     "text": [
      "HTTP/1.1 200 OK\r",
      "\r\n",
      "\u001b[1mConnection\u001b[0m: keep-alive\r",
      "\r\n",
      "\u001b[1mContent-Length\u001b[0m: 7985\r",
      "\r\n",
      "\u001b[1mServer\u001b[0m: GitHub.com\r",
      "\r\n",
      "\u001b[1mContent-Type\u001b[0m: text/html; charset=utf-8\r",
      "\r\n",
      "\u001b[1mLast-Modified\u001b[0m: Sat, 31 Jul 2021 00:57:04 GMT\r",
      "\r\n",
      "\u001b[1mAccess-Control-Allow-Origin\u001b[0m: *\r",
      "\r\n",
      "\u001b[1mETag\u001b[0m: \"61049fe0-1f31\"\r",
      "\r\n",
      "\u001b[1mexpires\u001b[0m: Mon, 02 Aug 2021 08:09:28 GMT\r",
      "\r\n",
      "\u001b[1mCache-Control\u001b[0m: max-age=600\r",
      "\r\n",
      "\u001b[1mx-proxy-cache\u001b[0m: MISS\r",
      "\r\n",
      "\u001b[1mX-GitHub-Request-Id\u001b[0m: A408:98A9:75ED07:86C654:6107A5E0\r",
      "\r\n",
      "\u001b[1mAccept-Ranges\u001b[0m: bytes\r",
      "\r\n",
      "\u001b[1mDate\u001b[0m: Mon, 02 Aug 2021 07:59:28 GMT\r",
      "\r\n",
      "\u001b[1mVia\u001b[0m: 1.1 varnish\r",
      "\r\n",
      "\u001b[1mAge\u001b[0m: 0\r",
      "\r\n",
      "\u001b[1mX-Served-By\u001b[0m: cache-hkg17922-HKG\r",
      "\r\n",
      "\u001b[1mX-Cache\u001b[0m: MISS\r",
      "\r\n",
      "\u001b[1mX-Cache-Hits\u001b[0m: 0\r",
      "\r\n",
      "\u001b[1mX-Timer\u001b[0m: S1627891168.488244,VS0,VE196\r",
      "\r\n",
      "\u001b[1mVary\u001b[0m: Accept-Encoding\r",
      "\r\n",
      "\u001b[1mX-Fastly-Request-ID\u001b[0m: 97ba9a65c933b1156f598febd0d75734e2b649c8\r",
      "\r\n",
      "\r",
      "\r\n"
     ]
    }
   ],
   "source": [
    "!curl --head --silent https://missing.csail.mit.edu"
   ]
  },
  {
   "cell_type": "markdown",
   "metadata": {},
   "source": [
    "<hr style=\"height:3px;border:none;color:#5F71F7;background-color:#5F71F7;\" />\n",
    "\n",
    "<div class=\"alert alert-success\">\n",
    "    <b>예제(Exercise)</b>:\n",
    "    <ul>\n",
    "        <li>\n",
    "        `|`와 `>`를 사용하여 \"last modified\"를 last-modified.txt.에 저장하기 \n",
    "        </li>\n",
    "    </ul>\n",
    "</div>\n",
    "\n",
    "\n",
    "\n"
   ]
  },
  {
   "cell_type": "code",
   "execution_count": 5,
   "metadata": {
    "ExecuteTime": {
     "end_time": "2021-08-02T09:36:46.811544Z",
     "start_time": "2021-08-02T09:36:46.677791Z"
    }
   },
   "outputs": [
    {
     "name": "stdout",
     "output_type": "stream",
     "text": [
      "\"last modified\"\r\n"
     ]
    }
   ],
   "source": [
    "!echo \\\"last modified\\\" > ../results/last-modified.txt | cat ../results/last-modified.txt"
   ]
  },
  {
   "cell_type": "code",
   "execution_count": null,
   "metadata": {},
   "outputs": [],
   "source": []
  }
 ],
 "metadata": {
  "kernelspec": {
   "display_name": "Python 3",
   "language": "python",
   "name": "python3"
  },
  "language_info": {
   "codemirror_mode": {
    "name": "ipython",
    "version": 3
   },
   "file_extension": ".py",
   "mimetype": "text/x-python",
   "name": "python",
   "nbconvert_exporter": "python",
   "pygments_lexer": "ipython3",
   "version": "3.7.0"
  },
  "toc": {
   "base_numbering": 1,
   "nav_menu": {},
   "number_sections": true,
   "sideBar": true,
   "skip_h1_title": true,
   "title_cell": "Table of Contents",
   "title_sidebar": "Contents",
   "toc_cell": true,
   "toc_position": {},
   "toc_section_display": true,
   "toc_window_display": false
  },
  "varInspector": {
   "cols": {
    "lenName": 16,
    "lenType": 16,
    "lenVar": 40
   },
   "kernels_config": {
    "python": {
     "delete_cmd_postfix": "",
     "delete_cmd_prefix": "del ",
     "library": "var_list.py",
     "varRefreshCmd": "print(var_dic_list())"
    },
    "r": {
     "delete_cmd_postfix": ") ",
     "delete_cmd_prefix": "rm(",
     "library": "var_list.r",
     "varRefreshCmd": "cat(var_dic_list()) "
    }
   },
   "types_to_exclude": [
    "module",
    "function",
    "builtin_function_or_method",
    "instance",
    "_Feature"
   ],
   "window_display": false
  }
 },
 "nbformat": 4,
 "nbformat_minor": 4
}
